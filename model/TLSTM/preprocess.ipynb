{
 "cells": [
  {
   "cell_type": "code",
   "execution_count": 1,
   "id": "ce4b9195-ad8c-495e-baca-2f72241ca06f",
   "metadata": {},
   "outputs": [],
   "source": [
    "import pandas as pd\n",
    "import numpy as np\n",
    "\n",
    "# Read the two files\n",
    "train_df = pd.read_csv(\"../../data/NASA-Turbofan/TLSTM/train_FD002.csv\")\n",
    "test_df = pd.read_csv(\"../../data/NASA-Turbofan/TLSTM/test_FD002.csv\")\n",
    "\n",
    "# Get the maximum unit_nr in the train dataset\n",
    "max_unit_train = train_df['unit_nr'].max()\n",
    "\n",
    "# Update unit_nr in the test dataset to avoid conflicts\n",
    "test_df['unit_nr'] = test_df['unit_nr'] + max_unit_train\n",
    "\n",
    "# Merge the two DataFrames\n",
    "merged_df = pd.concat([train_df, test_df], ignore_index=True)\n",
    "\n",
    "\n",
    "# Read the merged data\n",
    "df = merged_df\n",
    "\n",
    "# Store all sampled data\n",
    "sampled_units = []\n",
    "\n",
    "# Set random seed for reproducibility\n",
    "np.random.seed(42)\n",
    "\n",
    "# Iterate through each unit_nr group\n",
    "for unit_id, group in df.groupby('unit_nr'):\n",
    "    group = group.sort_values('time_cycle')\n",
    "\n",
    "    # Retain between 30% and 70% of the rows in time_cycle\n",
    "    sample_size = np.random.randint(int(0.3 * len(group)), int(0.7 * len(group)) + 1)\n",
    "\n",
    "    # Randomly select sample_size rows\n",
    "    sampled_group = group.sample(n=sample_size, replace=False).sort_values('time_cycle')\n",
    "\n",
    "    sampled_units.append(sampled_group)\n",
    "\n",
    "# Merge all sampled units\n",
    "sampled_df = pd.concat(sampled_units, ignore_index=True)\n"
   ]
  }
 ],
 "metadata": {
  "kernelspec": {
   "display_name": "Python 3 (ipykernel)",
   "language": "python",
   "name": "python3"
  },
  "language_info": {
   "codemirror_mode": {
    "name": "ipython",
    "version": 3
   },
   "file_extension": ".py",
   "mimetype": "text/x-python",
   "name": "python",
   "nbconvert_exporter": "python",
   "pygments_lexer": "ipython3",
   "version": "3.10.15"
  }
 },
 "nbformat": 4,
 "nbformat_minor": 5
}
